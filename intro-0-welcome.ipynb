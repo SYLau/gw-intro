{
 "cells": [
  {
   "cell_type": "markdown",
   "metadata": {},
   "source": [
    "# Introduction to python\n",
    "\n",
    "Welcome!  This notebook will show a few concepts with python.  Some of these examples are from [the pyplot tutorial](https://matplotlib.org/stable/tutorials/introductory/pyplot.html).  You can find more examples and tutorials online."
   ]
  },
  {
   "cell_type": "code",
   "execution_count": 1,
   "metadata": {},
   "outputs": [],
   "source": [
    "# -- Import libraries\n",
    "import numpy as np\n",
    "import matplotlib.pyplot as plt\n",
    "%matplotlib inline"
   ]
  },
  {
   "cell_type": "markdown",
   "metadata": {},
   "source": [
    "### Arrays\n",
    "\n",
    "An array is a list of numbers.  We can define arrays in different ways."
   ]
  },
  {
   "cell_type": "code",
   "execution_count": 2,
   "metadata": {},
   "outputs": [
    {
     "name": "stdout",
     "output_type": "stream",
     "text": [
      "These two arrays are the same!\n",
      "[1 2 3 4 5]\n",
      "[1 2 3 4 5]\n",
      "\n",
      "This array has a smaller step size\n",
      "[0.  0.5 1.  1.5 2.  2.5 3.  3.5 4.  4.5 5.  5.5]\n"
     ]
    }
   ],
   "source": [
    "array1 = np.array([1, 2, 3, 4, 5])\n",
    "array2 = np.arange(1,6)\n",
    "\n",
    "print('These two arrays are the same!')\n",
    "print(array1)\n",
    "print(array2)\n",
    "\n",
    "array3 = np.arange(0,6,0.5)\n",
    "print('\\nThis array has a smaller step size')\n",
    "print(array3)"
   ]
  },
  {
   "cell_type": "markdown",
   "metadata": {},
   "source": [
    "## Math with arrays\n",
    "\n",
    "Basic math with arrays will calculate on each value"
   ]
  },
  {
   "cell_type": "code",
   "execution_count": 3,
   "metadata": {},
   "outputs": [
    {
     "name": "stdout",
     "output_type": "stream",
     "text": [
      "I just doubled the array!\n",
      "x: [1 2 3 4 5]\n",
      "y: [ 2  4  6  8 10]\n",
      "I can also add two arrays\n",
      "z = x+y: [ 3  6  9 12 15]\n"
     ]
    }
   ],
   "source": [
    "x = array1\n",
    "y =2*x\n",
    "\n",
    "print(\"I just doubled the array!\")\n",
    "print('x:', x)\n",
    "print('y:', y)\n",
    "\n",
    "print(\"I can also add two arrays\")\n",
    "z = x + y\n",
    "print('z = x+y:', z)"
   ]
  },
  {
   "cell_type": "markdown",
   "metadata": {},
   "source": [
    "## Plotting arrays\n",
    "\n",
    "We can use pyplot to make plots of arrays"
   ]
  },
  {
   "cell_type": "code",
   "execution_count": 4,
   "metadata": {},
   "outputs": [
    {
     "data": {
      "text/plain": [
       "[<matplotlib.lines.Line2D at 0x7f9de9ba2b90>]"
      ]
     },
     "execution_count": 4,
     "metadata": {},
     "output_type": "execute_result"
    },
    {
     "data": {
      "image/png": "[encoded data removed]",
      "text/plain": [
       "<Figure size 432x288 with 1 Axes>"
      ]
     },
     "metadata": {
      "needs_background": "light"
     },
     "output_type": "display_data"
    }
   ],
   "source": [
    "plt.plot(x,y)"
   ]
  },
  {
   "cell_type": "code",
   "execution_count": 5,
   "metadata": {},
   "outputs": [
    {
     "data": {
      "text/plain": [
       "Text(0, 0.5, 'The y values')"
      ]
     },
     "execution_count": 5,
     "metadata": {},
     "output_type": "execute_result"
    },
    {
     "data": {
      "image/png": "[encoded data removed]",
      "text/plain": [
       "<Figure size 432x288 with 1 Axes>"
      ]
     },
     "metadata": {
      "needs_background": "light"
     },
     "output_type": "display_data"
    }
   ],
   "source": [
    "# -- Same plot, but with more labels\n",
    "plt.plot(x,y)\n",
    "plt.title(\"Title goes here\")\n",
    "plt.xlabel('The x values')\n",
    "plt.ylabel('The y values')"
   ]
  },
  {
   "cell_type": "markdown",
   "metadata": {},
   "source": [
    "## Practice with python\n",
    "\n",
    "You can add some code below this cell to try this.  Use \"insert cell below\" from the menu to create a new cell, or try holding \"alt\" and pressing \"return\".\n",
    "\n",
    "1. Define an array, x, from 0 to 5, with a spacing of 0.1 between points\n",
    "2. Define an array, y, as the square all these values (Hint: Try `x**2` to square an array)\n",
    "3. Plot y vs. x.  Can you see a parabola?"
   ]
  }
 ],
 "metadata": {
  "kernelspec": {
   "display_name": "Python 3",
   "language": "python",
   "name": "python3"
  },
  "language_info": {
   "codemirror_mode": {
    "name": "ipython",
    "version": 3
   },
   "file_extension": ".py",
   "mimetype": "text/x-python",
   "name": "python",
   "nbconvert_exporter": "python",
   "pygments_lexer": "ipython3",
   "version": "3.7.6"
  }
 },
 "nbformat": 4,
 "nbformat_minor": 2
}
